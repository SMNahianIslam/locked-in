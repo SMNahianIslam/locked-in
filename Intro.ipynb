{
  "nbformat": 4,
  "nbformat_minor": 0,
  "metadata": {
    "colab": {
      "provenance": [],
      "authorship_tag": "ABX9TyMo1RYN2a4Xye3BQELPd9r6",
      "include_colab_link": true
    },
    "kernelspec": {
      "name": "python3",
      "display_name": "Python 3"
    },
    "language_info": {
      "name": "python"
    }
  },
  "cells": [
    {
      "cell_type": "markdown",
      "metadata": {
        "id": "view-in-github",
        "colab_type": "text"
      },
      "source": [
        "<a href=\"https://colab.research.google.com/github/SMNahianIslam/locked-in/blob/main/Intro.ipynb\" target=\"_parent\"><img src=\"https://colab.research.google.com/assets/colab-badge.svg\" alt=\"Open In Colab\"/></a>"
      ]
    },
    {
      "cell_type": "code",
      "execution_count": 5,
      "metadata": {
        "colab": {
          "base_uri": "https://localhost:8080/"
        },
        "id": "3rgx_KCqhOtR",
        "outputId": "afc05db9-aadc-4da1-f59f-ac3dd928ab80"
      },
      "outputs": [
        {
          "output_type": "execute_result",
          "data": {
            "text/plain": [
              "bool"
            ]
          },
          "metadata": {},
          "execution_count": 5
        }
      ],
      "source": [
        "weatherForecast =\n",
        "type(weatherForecast)"
      ]
    },
    {
      "cell_type": "code",
      "source": [
        "weatherForecast = \"77\"\n",
        "type(weatherForecast)"
      ],
      "metadata": {
        "colab": {
          "base_uri": "https://localhost:8080/"
        },
        "id": "UCs5KOIHlSLZ",
        "outputId": "140f26c3-fbb4-4307-9663-a9d41ec46327"
      },
      "execution_count": 8,
      "outputs": [
        {
          "output_type": "execute_result",
          "data": {
            "text/plain": [
              "str"
            ]
          },
          "metadata": {},
          "execution_count": 8
        }
      ]
    },
    {
      "cell_type": "code",
      "source": [
        "s = float (weatherForecast)"
      ],
      "metadata": {
        "id": "udl6SdwAlam0"
      },
      "execution_count": 9,
      "outputs": []
    },
    {
      "cell_type": "code",
      "source": [
        "type (s)"
      ],
      "metadata": {
        "colab": {
          "base_uri": "https://localhost:8080/"
        },
        "id": "0lHfJzGPlxK7",
        "outputId": "07de0016-1a63-4e0c-93c7-2d486689606b"
      },
      "execution_count": 10,
      "outputs": [
        {
          "output_type": "execute_result",
          "data": {
            "text/plain": [
              "float"
            ]
          },
          "metadata": {},
          "execution_count": 10
        }
      ]
    },
    {
      "cell_type": "code",
      "source": [
        "# Station information\n",
        "station_name = \"Dhaka Kamrangirchor\"\n",
        "station_id = 696969\n",
        "\n",
        "# An example temperature with many decimals\n",
        "temp = 69.9988999999999\n",
        "\n",
        "# 1. The f-string approach (recommended)\n",
        "info_text = (\n",
        "    f\"The temperature at {station_name} (ID: {station_id}) is {temp:.1f} Celsius.\"\n",
        ")\n",
        "\n",
        "print(info_text)"
      ],
      "metadata": {
        "colab": {
          "base_uri": "https://localhost:8080/"
        },
        "id": "ReWXTAC0pykb",
        "outputId": "dde8979e-c1bf-4f34-d7a7-d83260bdb674"
      },
      "execution_count": 17,
      "outputs": [
        {
          "output_type": "stream",
          "name": "stdout",
          "text": [
            "The temperature at Dhaka Kamrangirchor (ID: 696969) is 70.0 Celsius.\n"
          ]
        }
      ]
    },
    {
      "cell_type": "code",
      "source": [
        "european_cities = [\"Amsterdam\", \"Brussels\", \"Lisbon\", \"Reykjavik\"]\n",
        "for city in european_cities:\n",
        "    print(city)"
      ],
      "metadata": {
        "colab": {
          "base_uri": "https://localhost:8080/"
        },
        "id": "vIx4H88Py9Nh",
        "outputId": "082205b2-4e6d-4ba2-beab-44c3e784b487"
      },
      "execution_count": 19,
      "outputs": [
        {
          "output_type": "stream",
          "name": "stdout",
          "text": [
            "Amsterdam\n",
            "Brussels\n",
            "Lisbon\n",
            "Reykjavik\n"
          ]
        }
      ]
    },
    {
      "cell_type": "code",
      "source": [
        "for i in range(\"I l):\n",
        "    print(i)"
      ],
      "metadata": {
        "colab": {
          "base_uri": "https://localhost:8080/",
          "height": 158
        },
        "id": "qhv_N-uV0Ybi",
        "outputId": "9bb0d2c8-44c4-4674-c3af-be9e21fd8bd2"
      },
      "execution_count": 25,
      "outputs": [
        {
          "output_type": "error",
          "ename": "TypeError",
          "evalue": "'str' object cannot be interpreted as an integer",
          "traceback": [
            "\u001b[0;31m---------------------------------------------------------------------------\u001b[0m",
            "\u001b[0;31mTypeError\u001b[0m                                 Traceback (most recent call last)",
            "\u001b[0;32m<ipython-input-25-f1baa654de45>\u001b[0m in \u001b[0;36m<cell line: 1>\u001b[0;34m()\u001b[0m\n\u001b[0;32m----> 1\u001b[0;31m \u001b[0;32mfor\u001b[0m \u001b[0mi\u001b[0m \u001b[0;32min\u001b[0m \u001b[0mrange\u001b[0m\u001b[0;34m(\u001b[0m\u001b[0;34m\"I love you\"\u001b[0m\u001b[0;34m)\u001b[0m\u001b[0;34m:\u001b[0m\u001b[0;34m\u001b[0m\u001b[0;34m\u001b[0m\u001b[0m\n\u001b[0m\u001b[1;32m      2\u001b[0m     \u001b[0mprint\u001b[0m\u001b[0;34m(\u001b[0m\u001b[0mi\u001b[0m\u001b[0;34m)\u001b[0m\u001b[0;34m\u001b[0m\u001b[0;34m\u001b[0m\u001b[0m\n",
            "\u001b[0;31mTypeError\u001b[0m: 'str' object cannot be interpreted as an integer"
          ]
        }
      ]
    },
    {
      "source": [
        "for _ in range(100):\n",
        "    print(\"I love you\")"
      ],
      "cell_type": "code",
      "metadata": {
        "colab": {
          "base_uri": "https://localhost:8080/"
        },
        "id": "yzieWYIf1QES",
        "outputId": "5e48abb7-ce33-47ff-9d08-4df9ee782994"
      },
      "execution_count": 27,
      "outputs": [
        {
          "output_type": "stream",
          "name": "stdout",
          "text": [
            "I love you\n",
            "I love you\n",
            "I love you\n",
            "I love you\n",
            "I love you\n",
            "I love you\n",
            "I love you\n",
            "I love you\n",
            "I love you\n",
            "I love you\n",
            "I love you\n",
            "I love you\n",
            "I love you\n",
            "I love you\n",
            "I love you\n",
            "I love you\n",
            "I love you\n",
            "I love you\n",
            "I love you\n",
            "I love you\n",
            "I love you\n",
            "I love you\n",
            "I love you\n",
            "I love you\n",
            "I love you\n",
            "I love you\n",
            "I love you\n",
            "I love you\n",
            "I love you\n",
            "I love you\n",
            "I love you\n",
            "I love you\n",
            "I love you\n",
            "I love you\n",
            "I love you\n",
            "I love you\n",
            "I love you\n",
            "I love you\n",
            "I love you\n",
            "I love you\n",
            "I love you\n",
            "I love you\n",
            "I love you\n",
            "I love you\n",
            "I love you\n",
            "I love you\n",
            "I love you\n",
            "I love you\n",
            "I love you\n",
            "I love you\n",
            "I love you\n",
            "I love you\n",
            "I love you\n",
            "I love you\n",
            "I love you\n",
            "I love you\n",
            "I love you\n",
            "I love you\n",
            "I love you\n",
            "I love you\n",
            "I love you\n",
            "I love you\n",
            "I love you\n",
            "I love you\n",
            "I love you\n",
            "I love you\n",
            "I love you\n",
            "I love you\n",
            "I love you\n",
            "I love you\n",
            "I love you\n",
            "I love you\n",
            "I love you\n",
            "I love you\n",
            "I love you\n",
            "I love you\n",
            "I love you\n",
            "I love you\n",
            "I love you\n",
            "I love you\n",
            "I love you\n",
            "I love you\n",
            "I love you\n",
            "I love you\n",
            "I love you\n",
            "I love you\n",
            "I love you\n",
            "I love you\n",
            "I love you\n",
            "I love you\n",
            "I love you\n",
            "I love you\n",
            "I love you\n",
            "I love you\n",
            "I love you\n",
            "I love you\n",
            "I love you\n",
            "I love you\n",
            "I love you\n",
            "I love you\n"
          ]
        }
      ]
    },
    {
      "cell_type": "code",
      "source": [
        "african_cities = [\"Dakar\", \"Addis Ababa\", \"Nairobi\", \"Cairo\", \"Rabat\", \"Kampala\"]\n",
        "for i in range(len(african_cities)):\n",
        "    print(f\"{african_cities[i]} is at index {i} in the list.\")"
      ],
      "metadata": {
        "colab": {
          "base_uri": "https://localhost:8080/"
        },
        "id": "XpRl91VS1tV8",
        "outputId": "b40c3961-2eb5-4a9e-b376-c5acd69ee99f"
      },
      "execution_count": 28,
      "outputs": [
        {
          "output_type": "stream",
          "name": "stdout",
          "text": [
            "Dakar is at index 0 in the list.\n",
            "Addis Ababa is at index 1 in the list.\n",
            "Nairobi is at index 2 in the list.\n",
            "Cairo is at index 3 in the list.\n",
            "Rabat is at index 4 in the list.\n",
            "Kampala is at index 5 in the list.\n"
          ]
        }
      ]
    },
    {
      "cell_type": "code",
      "source": [
        "odd_numbers = [1, 3, 5, 7, 9]\n",
        "even_numbers = [10, 4, 6, 8, 2]\n",
        "for i in range(len(odd_numbers)):\n",
        "    print(odd_numbers[i] + even_numbers[i])"
      ],
      "metadata": {
        "colab": {
          "base_uri": "https://localhost:8080/"
        },
        "id": "dTobpJ6P3HEa",
        "outputId": "078361dd-f79d-468b-8c8f-4d28b62d7dec"
      },
      "execution_count": 29,
      "outputs": [
        {
          "output_type": "stream",
          "name": "stdout",
          "text": [
            "11\n",
            "7\n",
            "11\n",
            "15\n",
            "11\n"
          ]
        }
      ]
    },
    {
      "cell_type": "code",
      "source": [
        "temperature = 35\n",
        "\n",
        "if temperature > 25:\n",
        "    print(f\"{temperature} degree celcius is hot!\")\n",
        "else:\n",
        "    print(f\"{temperature} degree celcius is not hot!\")"
      ],
      "metadata": {
        "colab": {
          "base_uri": "https://localhost:8080/"
        },
        "id": "I2hnJ3FR4nR9",
        "outputId": "8437aa38-6242-44a2-851f-d75530633500"
      },
      "execution_count": 34,
      "outputs": [
        {
          "output_type": "stream",
          "name": "stdout",
          "text": [
            "35 degree celcius is hot!\n"
          ]
        }
      ]
    },
    {
      "cell_type": "code",
      "source": [
        "temperatures = [0, 28, 12, 17, 30]\n",
        "\n",
        "# Loop over each temperature\n",
        "# If the temperature is greater than 25, print \"...is hot\"\n",
        "for temperature in temperatures:\n",
        "    if temperature > 25:\n",
        "        print(f\"{temperature} is hot\")\n",
        "    else:\n",
        "        print(f\"{temperature} is not hot\")"
      ],
      "metadata": {
        "colab": {
          "base_uri": "https://localhost:8080/"
        },
        "id": "EJtuRaC56bgV",
        "outputId": "cc077b0f-d753-4245-c309-1c1be2ede90d"
      },
      "execution_count": 37,
      "outputs": [
        {
          "output_type": "stream",
          "name": "stdout",
          "text": [
            "0 is not hot\n",
            "28 is hot\n",
            "12 is not hot\n",
            "17 is not hot\n",
            "30 is hot\n"
          ]
        }
      ]
    },
    {
      "cell_type": "code",
      "source": [
        "def celsius_to_newton(temp_celsius):\n",
        "    return temp_celsius * 0.33\n",
        "    print (temp_celcius)"
      ],
      "metadata": {
        "id": "zc9w9hNQ7dbJ"
      },
      "execution_count": 42,
      "outputs": []
    }
  ]
}